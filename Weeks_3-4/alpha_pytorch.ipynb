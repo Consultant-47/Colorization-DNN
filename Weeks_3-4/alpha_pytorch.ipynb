{
 "cells": [
  {
   "cell_type": "code",
   "execution_count": 1,
   "id": "universal-nickel",
   "metadata": {},
   "outputs": [],
   "source": [
    "from skimage.color import rgb2lab, lab2rgb, rgb2gray, xyz2lab\n",
    "from skimage.io import imsave\n",
    "from torchvision import transforms\n",
    "from PIL import Image\n",
    "import numpy as np\n",
    "import os\n",
    "import random\n",
    "import torch\n",
    "import torch.nn as nn\n",
    "import torch.nn.functional as F\n",
    "import torch.optim as optim\n",
    "from torch.utils.data import TensorDataset, DataLoader"
   ]
  },
  {
   "cell_type": "code",
   "execution_count": 2,
   "id": "brilliant-thanksgiving",
   "metadata": {},
   "outputs": [],
   "source": [
    "## Load and preprocess the image using torchvision\n",
    "image_path = 'woman.jpg'\n",
    "\n",
    "# Load the image and apply the transformation\n",
    "image_pil = Image.open(image_path).convert('RGB')\n",
    "\n",
    "image = np.array(image_pil)"
   ]
  },
  {
   "cell_type": "code",
   "execution_count": 3,
   "id": "missing-orchestra",
   "metadata": {},
   "outputs": [],
   "source": [
    "X = rgb2lab(1.0/255*image)[:,:,0]\n",
    "Y = rgb2lab(1.0/255*image)[:,:,1:]\n",
    "Y /= 128\n",
    "X = X.reshape(1, 400, 400, 1)\n",
    "Y = Y.reshape(1, 400, 400, 2)"
   ]
  },
  {
   "cell_type": "code",
   "execution_count": 4,
   "id": "other-visitor",
   "metadata": {},
   "outputs": [],
   "source": [
    "class ColorizationNet(nn.Module):\n",
    "    def __init__(self):\n",
    "        super(ColorizationNet, self).__init__()\n",
    "        \n",
    "        self.conv1 = nn.Conv2d(1, 8, kernel_size=3, stride=2, padding=1)\n",
    "        self.conv2 = nn.Conv2d(8, 8, kernel_size=3, padding=1)\n",
    "        self.conv3 = nn.Conv2d(8, 16, kernel_size=3, padding=1)\n",
    "        self.conv4 = nn.Conv2d(16, 16, kernel_size=3, stride=2, padding=1)\n",
    "        self.conv5 = nn.Conv2d(16, 32, kernel_size=3, padding=1)\n",
    "        self.conv6 = nn.Conv2d(32, 32, kernel_size=3, stride=2, padding=1)\n",
    "        self.upsample1 = nn.Upsample(scale_factor=2, mode='bilinear', align_corners=False)\n",
    "        self.conv7 = nn.Conv2d(32, 32, kernel_size=3, padding=1)\n",
    "        self.upsample2 = nn.Upsample(scale_factor=2, mode='bilinear', align_corners=False)\n",
    "        self.conv8 = nn.Conv2d(32, 16, kernel_size=3, padding=1)\n",
    "        self.upsample3 = nn.Upsample(scale_factor=2, mode='bilinear', align_corners=False)\n",
    "        self.conv9 = nn.Conv2d(16, 2, kernel_size=3, padding=1)\n",
    "\n",
    "    def forward(self, x):\n",
    "        x = F.relu(self.conv1(x))\n",
    "        x = F.relu(self.conv2(x))\n",
    "        x = F.relu(self.conv3(x))\n",
    "        x = F.relu(self.conv4(x))\n",
    "        x = F.relu(self.conv5(x))\n",
    "        x = F.relu(self.conv6(x))\n",
    "        x = self.upsample1(x)\n",
    "        x = F.relu(self.conv7(x))\n",
    "        x = self.upsample2(x)\n",
    "        x = F.relu(self.conv8(x))\n",
    "        x = self.upsample3(x)\n",
    "        x = torch.tanh(self.conv9(x))\n",
    "\n",
    "        return x\n",
    "\n",
    "\n"
   ]
  },
  {
   "cell_type": "code",
   "execution_count": 5,
   "id": "arranged-price",
   "metadata": {},
   "outputs": [
    {
     "name": "stdout",
     "output_type": "stream",
     "text": [
      "ColorizationNet(\n",
      "  (conv1): Conv2d(1, 8, kernel_size=(3, 3), stride=(2, 2), padding=(1, 1))\n",
      "  (conv2): Conv2d(8, 8, kernel_size=(3, 3), stride=(1, 1), padding=(1, 1))\n",
      "  (conv3): Conv2d(8, 16, kernel_size=(3, 3), stride=(1, 1), padding=(1, 1))\n",
      "  (conv4): Conv2d(16, 16, kernel_size=(3, 3), stride=(2, 2), padding=(1, 1))\n",
      "  (conv5): Conv2d(16, 32, kernel_size=(3, 3), stride=(1, 1), padding=(1, 1))\n",
      "  (conv6): Conv2d(32, 32, kernel_size=(3, 3), stride=(2, 2), padding=(1, 1))\n",
      "  (upsample1): Upsample(scale_factor=2.0, mode='bilinear')\n",
      "  (conv7): Conv2d(32, 32, kernel_size=(3, 3), stride=(1, 1), padding=(1, 1))\n",
      "  (upsample2): Upsample(scale_factor=2.0, mode='bilinear')\n",
      "  (conv8): Conv2d(32, 16, kernel_size=(3, 3), stride=(1, 1), padding=(1, 1))\n",
      "  (upsample3): Upsample(scale_factor=2.0, mode='bilinear')\n",
      "  (conv9): Conv2d(16, 2, kernel_size=(3, 3), stride=(1, 1), padding=(1, 1))\n",
      ")\n"
     ]
    }
   ],
   "source": [
    "# Instantiate the model\n",
    "model = ColorizationNet()\n",
    "\n",
    "# Print the model architecture\n",
    "print(model)\n",
    "criterion = nn.MSELoss()\n",
    "optimizer = optim.RMSprop(model.parameters())"
   ]
  },
  {
   "cell_type": "code",
   "execution_count": 13,
   "id": "nuclear-underground",
   "metadata": {},
   "outputs": [
    {
     "name": "stdout",
     "output_type": "stream",
     "text": [
      "Epoch [1/1000], Loss: 0.0156\n",
      "Epoch [101/1000], Loss: 0.0024\n",
      "Epoch [201/1000], Loss: 0.0018\n",
      "Epoch [301/1000], Loss: 0.0014\n",
      "Epoch [401/1000], Loss: 0.0008\n",
      "Epoch [501/1000], Loss: 0.0006\n",
      "Epoch [601/1000], Loss: 0.0009\n",
      "Epoch [701/1000], Loss: 0.0007\n",
      "Epoch [801/1000], Loss: 0.0004\n",
      "Epoch [901/1000], Loss: 0.0004\n"
     ]
    }
   ],
   "source": [
    "# Assuming your model and data are already defined\n",
    "# Assuming X and Y are NumPy arrays\n",
    "# Convert X and Y to PyTorch tensors\n",
    "X_tensor = torch.tensor(X, dtype=torch.float32).permute(0, 3, 1, 2) #TF and PyTorch define differently\n",
    "Y_tensor = torch.tensor(Y, dtype=torch.float32).permute(0, 3, 1, 2) #\n",
    "# Optionally, move the tensors to GPU if available\n",
    "device = torch.device(\"cuda\" if torch.cuda.is_available() else \"cpu\")\n",
    "X_tensor = X_tensor.to(device)\n",
    "Y_tensor = Y_tensor.to(device)\n",
    "\n",
    "# Create a DataLoader for batch training\n",
    "dataset = TensorDataset(X_tensor, Y_tensor)\n",
    "dataloader = DataLoader(dataset, batch_size=1, shuffle=True)\n",
    "\n",
    "# Instantiate the model\n",
    "model = ColorizationNet()\n",
    "\n",
    "# Define the loss function and optimizer\n",
    "criterion = nn.MSELoss()\n",
    "optimizer = optim.RMSprop(model.parameters(), lr=0.001, alpha=0.9)\n",
    "\n",
    "# Training loop\n",
    "num_epochs = 1000\n",
    "for epoch in range(num_epochs):\n",
    "    total_loss = 0.0\n",
    "    for inputs, targets in dataloader:\n",
    "        inputs, targets = inputs.to(device), targets.to(device)\n",
    "        optimizer.zero_grad()\n",
    "        outputs = model(inputs)\n",
    "        loss = criterion(outputs, targets)\n",
    "        loss.backward()\n",
    "        optimizer.step()\n",
    "\n",
    "        total_loss += loss.item()\n",
    "\n",
    "    average_loss = total_loss / len(dataloader)\n",
    "    if(epoch%100==0):\n",
    "        print(f\"Epoch [{epoch + 1}/{num_epochs}], Loss: {average_loss:.4f}\")\n"
   ]
  },
  {
   "cell_type": "code",
   "execution_count": 14,
   "id": "structured-commission",
   "metadata": {},
   "outputs": [],
   "source": [
    "with torch.no_grad():\n",
    "    model.eval()\n",
    "    output_tensor = model(X_tensor)\n",
    "    output_numpy = output_tensor.cpu().numpy()\n",
    "\n",
    "# Post-process and save images\n",
    "cur = np.zeros((output_numpy.shape[2], output_numpy.shape[3], 3))\n",
    "cur[:,:,0] = X[0][:,:,0]\n",
    "cur[:,:,1:] = (output_numpy[0] * 128).transpose(1, 2, 0)\n",
    "output_rgb = (lab2rgb(cur) * 255).astype(np.uint8)\n",
    "\n",
    "input_rgb = (rgb2gray(lab2rgb(cur)) * 255).astype(np.uint8)\n",
    "\n",
    "imsave(\"img_result.png\", output_rgb)\n",
    "imsave(\"img_gray_version.png\", input_rgb)"
   ]
  }
 ],
 "metadata": {
  "kernelspec": {
   "display_name": "Python 3",
   "language": "python",
   "name": "python3"
  },
  "language_info": {
   "codemirror_mode": {
    "name": "ipython",
    "version": 3
   },
   "file_extension": ".py",
   "mimetype": "text/x-python",
   "name": "python",
   "nbconvert_exporter": "python",
   "pygments_lexer": "ipython3",
   "version": "3.9.1"
  }
 },
 "nbformat": 4,
 "nbformat_minor": 5
}
